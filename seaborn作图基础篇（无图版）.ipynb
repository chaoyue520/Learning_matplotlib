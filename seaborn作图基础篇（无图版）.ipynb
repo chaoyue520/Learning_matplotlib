{
 "cells": [
  {
   "cell_type": "markdown",
   "metadata": {},
   "source": [
    "# 利用Seaborn进行数据可视化"
   ]
  },
  {
   "cell_type": "markdown",
   "metadata": {},
   "source": [
    "[介绍](http://seaborn.pydata.org/generated/seaborn.lmplot.html?highlight=lmplot#seaborn.lmplot)\n",
    "\n",
    "* Seaborn是一种基于matplotlib的图形可视化python libraty。提供了一种高度交互式界面，是matplotlib作图库的有效补充，而不是替代物\n",
    "* 安装方法：pip install seaborn"
   ]
  },
  {
   "cell_type": "markdown",
   "metadata": {},
   "source": [
    "# 全量数据作图"
   ]
  },
  {
   "cell_type": "markdown",
   "metadata": {},
   "source": [
    "## 数据概览"
   ]
  },
  {
   "cell_type": "code",
   "execution_count": null,
   "metadata": {
    "collapsed": false
   },
   "outputs": [],
   "source": [
    "import matplotlib\n",
    "import seaborn as sns\n",
    "import numpy as np\n",
    "%matplotlib inline"
   ]
  },
  {
   "cell_type": "code",
   "execution_count": null,
   "metadata": {
    "collapsed": false
   },
   "outputs": [],
   "source": [
    "anscombe_df = sns.load_dataset('anscombe')"
   ]
  },
  {
   "cell_type": "code",
   "execution_count": null,
   "metadata": {
    "collapsed": false
   },
   "outputs": [],
   "source": [
    "anscombe_df.groupby('dataset').agg([np.mean, np.var])"
   ]
  },
  {
   "cell_type": "markdown",
   "metadata": {},
   "source": [
    "## 计算相关性"
   ]
  },
  {
   "cell_type": "code",
   "execution_count": null,
   "metadata": {
    "collapsed": false
   },
   "outputs": [],
   "source": [
    "a=[]\n",
    "for i in list(set(anscombe_df.dataset)):\n",
    "    b=anscombe_df[anscombe_df.dataset==i].corr()\n",
    "    a.append(b.iloc[1,0])\n",
    "\n",
    "print a"
   ]
  },
  {
   "cell_type": "markdown",
   "metadata": {},
   "source": [
    "**备注：**\n",
    "* 如果只看统计变量，四类数据的均值，方差和相关性是一致的，那是不是说明四类数据分布就一样呢？\n",
    "* 以下通过作图直观展示四类数据的分布"
   ]
  },
  {
   "cell_type": "markdown",
   "metadata": {},
   "source": [
    "## lmplot画图"
   ]
  },
  {
   "cell_type": "code",
   "execution_count": null,
   "metadata": {
    "collapsed": false
   },
   "outputs": [],
   "source": [
    "# 设置样式\n",
    "sns.set_style(\"white\")"
   ]
  },
  {
   "cell_type": "markdown",
   "metadata": {},
   "source": [
    "样式控制，共5个seaborn主题，适用于不同的应用和人群偏好：\n",
    "\n",
    "* darkgrid ：黑色网格，默认\n",
    "* whitegrid ： 白色网格\n",
    "* dark：黑色背景\n",
    "* white：白色背景\n",
    "* ticks："
   ]
  },
  {
   "cell_type": "code",
   "execution_count": null,
   "metadata": {
    "collapsed": false
   },
   "outputs": [],
   "source": [
    "sns.lmplot(x=\"x\", y=\"y\", col=\"dataset\", hue=\"dataset\", \n",
    "           data=anscombe_df, col_wrap=4, ci=50, palette=\"Set2\",\n",
    "           size=4, scatter_kws={\"s\": 100, \"alpha\": 0.3})"
   ]
  },
  {
   "cell_type": "code",
   "execution_count": null,
   "metadata": {
    "collapsed": false
   },
   "outputs": [],
   "source": [
    "sns.set_style(\"ticks\")\n",
    "sns.lmplot(x=\"x\", y=\"y\", \n",
    "           data=anscombe_df,  ci=None, palette=\"muted\",\n",
    "           size=3, scatter_kws={\"s\": 50, \"alpha\": 1})"
   ]
  },
  {
   "cell_type": "code",
   "execution_count": null,
   "metadata": {
    "collapsed": false
   },
   "outputs": [],
   "source": [
    "# load 吸烟与否数据集\n",
    "tips = sns.load_dataset(\"tips\")\n",
    "tips.head()"
   ]
  },
  {
   "cell_type": "code",
   "execution_count": null,
   "metadata": {
    "collapsed": false
   },
   "outputs": [],
   "source": [
    "# 直观上绘制出total_bill和tip的线性关系\n",
    "sns.lmplot(x=\"total_bill\",y=\"tip\",data=tips)"
   ]
  },
  {
   "cell_type": "code",
   "execution_count": null,
   "metadata": {
    "collapsed": false
   },
   "outputs": [],
   "source": [
    "sns.set_style(\"whitegrid\")\n",
    "#研究小费tips与总消费金额total_bill在吸烟与不吸烟人之间的关系\n",
    "g = sns.lmplot(x=\"total_bill\", y=\"tip\", hue=\"smoker\", data=tips , palette=\"Set1\")"
   ]
  },
  {
   "cell_type": "markdown",
   "metadata": {},
   "source": [
    "通过回归模型发现total_bill=20为分界点，不吸烟者的小费高于吸烟者"
   ]
  },
  {
   "cell_type": "code",
   "execution_count": null,
   "metadata": {
    "collapsed": false
   },
   "outputs": [],
   "source": [
    "#研究在不同星期下，消费总额与消费的回归关系，col|hue控制子图不同的变量day，col_wrap控制每行子图数量，size控制子图高度\n",
    "g = sns.lmplot(x=\"total_bill\", y=\"tip\", col=\"day\", hue=\"day\",data=tips, col_wrap=2, size=3)"
   ]
  },
  {
   "cell_type": "markdown",
   "metadata": {},
   "source": [
    "## regplot 绘图"
   ]
  },
  {
   "cell_type": "code",
   "execution_count": null,
   "metadata": {
    "collapsed": false
   },
   "outputs": [],
   "source": [
    "# 同lmplot()一样，首先绘制出total_bill和tips的线性关系\n",
    "sns.regplot(x=\"total_bill\",y=\"tip\",data=tips,fit_reg=True,x_jitter=0.2)"
   ]
  },
  {
   "cell_type": "markdown",
   "metadata": {},
   "source": [
    "lmplot()绘图和regplot()绘图的主要区别是：\n",
    "* 参数区别：data参数时lmplot()必传的参数之一，而regplot可以通过data['x']和data['y']的形式传入x，y和data\n",
    "* 当其中一个变量取值为离散型的时候，可以拟合一个线性回归。然而，这种数据集生成的简单散点图通常不是最优的，一个常用的方法是为离散值添加一些随机噪声的“抖动”(x_jitter)。抖动仅适用于散点图数据，且不会影响拟合的回归线本身"
   ]
  },
  {
   "cell_type": "markdown",
   "metadata": {
    "collapsed": true
   },
   "source": [
    "# [利用FacetGrid作图](https://seaborn.pydata.org/generated/seaborn.FacetGrid.html)"
   ]
  },
  {
   "cell_type": "markdown",
   "metadata": {},
   "source": [
    "如果想在数据集的不同子集上绘制相同绘图的多个实例，比如不同性别抽烟人群在小费和消费金额的关系。即在数据集的子集内可视化变量的分布或多个变量之间的关系时该如何操作呢？\n",
    "\n",
    "* 可以考虑用FacetGrid子集绘图，FacetGrid可以绘制最多三个维度：row，col和hue。\n",
    "* 前两者与所得轴数有明显的对应关系;将hue变量视为沿着深度轴的第三维，其中不同的级别用不同的颜色绘制"
   ]
  },
  {
   "cell_type": "code",
   "execution_count": null,
   "metadata": {
    "collapsed": true
   },
   "outputs": [],
   "source": [
    "from scipy import stats\n",
    "import matplotlib as mpl\n",
    "import matplotlib.pyplot as plt"
   ]
  },
  {
   "cell_type": "markdown",
   "metadata": {},
   "source": [
    "## 不同种类图形绘制"
   ]
  },
  {
   "cell_type": "code",
   "execution_count": null,
   "metadata": {
    "collapsed": false
   },
   "outputs": [],
   "source": [
    "# 初始化网格，并没有绘制任何图像\n",
    "g=sns.FacetGrid(tips,col=\"time\")"
   ]
  },
  {
   "cell_type": "markdown",
   "metadata": {},
   "source": [
    "### 直方图 hist"
   ]
  },
  {
   "cell_type": "code",
   "execution_count": null,
   "metadata": {
    "collapsed": false
   },
   "outputs": [],
   "source": [
    "# 在上述网格上可视化数据的主要方法是FacetGrid.map()函数\n",
    "g=sns.FacetGrid(tips,col=\"time\")\n",
    "g.map(plt.hist,\"tip\")"
   ]
  },
  {
   "cell_type": "markdown",
   "metadata": {},
   "source": [
    "将数据集tips按照time分成两个子集，然后分别绘制两个子集上tips的直方图"
   ]
  },
  {
   "cell_type": "markdown",
   "metadata": {},
   "source": [
    "### 散点图 scatter"
   ]
  },
  {
   "cell_type": "code",
   "execution_count": null,
   "metadata": {
    "collapsed": false
   },
   "outputs": [],
   "source": [
    "g=sns.FacetGrid(tips,col=\"sex\",hue=\"smoker\")\n",
    "g.map(plt.scatter,\"total_bill\",\"tip\",alpha=0.7)\n",
    "g.add_legend()"
   ]
  },
  {
   "cell_type": "markdown",
   "metadata": {},
   "source": [
    "将数据集tips按照性别分成两个子集，在绘制total_bill和tips散点图关系的时候，再按照吸烟与否将散点图颜色进行区分"
   ]
  },
  {
   "cell_type": "code",
   "execution_count": null,
   "metadata": {
    "collapsed": false
   },
   "outputs": [],
   "source": [
    "g=sns.FacetGrid(tips,row=\"smoker\",col=\"time\",hue=\"sex\",margin_titles=True)\n",
    "g.map(plt.scatter,\"total_bill\",\"tip\",alpha=0.7)"
   ]
  },
  {
   "cell_type": "markdown",
   "metadata": {},
   "source": [
    "将数据集tips按照time和smoker分成四个子集，然后再绘制total_bill和tip散点图的关系"
   ]
  },
  {
   "cell_type": "markdown",
   "metadata": {},
   "source": [
    "### 盒子图 barplot"
   ]
  },
  {
   "cell_type": "code",
   "execution_count": null,
   "metadata": {
    "collapsed": false
   },
   "outputs": [],
   "source": [
    "# 参数size和aspect控制图像的大小\n",
    "g=sns.FacetGrid(tips,col=\"day\",size=4,aspect=0.6)\n",
    "g.map(sns.barplot,\"sex\",\"total_bill\")"
   ]
  },
  {
   "cell_type": "code",
   "execution_count": null,
   "metadata": {
    "collapsed": false
   },
   "outputs": [],
   "source": [
    "# FacetGrid中设置hue参数进行数据区分\n",
    "g=sns.FacetGrid(tips,col=\"day\",size=4,aspect=0.6,hue=\"smoker\")\n",
    "g.map(sns.barplot,\"sex\",\"total_bill\")"
   ]
  },
  {
   "cell_type": "code",
   "execution_count": null,
   "metadata": {
    "collapsed": false
   },
   "outputs": [],
   "source": [
    "g = sns.FacetGrid(tips, col=\"sex\", row=\"smoker\",margin_titles=True)\n",
    "g.map(sns.boxplot, \"day\", \"tip\");"
   ]
  },
  {
   "cell_type": "markdown",
   "metadata": {},
   "source": [
    "### 频率直方图 [distplot](https://seaborn.pydata.org/generated/seaborn.distplot.html)"
   ]
  },
  {
   "cell_type": "code",
   "execution_count": null,
   "metadata": {
    "collapsed": false
   },
   "outputs": [],
   "source": [
    "# distplot() 绘制频率直方图\n",
    "# bins 设置频率\n",
    "sns.distplot(tips['total_bill'],bins=[0,30,60])"
   ]
  },
  {
   "cell_type": "code",
   "execution_count": null,
   "metadata": {
    "collapsed": false
   },
   "outputs": [],
   "source": [
    "# 寻找适当的*_order参数来指定任何平面维度的数据顺序。\n",
    "ordered_days = tips.day.value_counts().index\n",
    "g = sns.FacetGrid(tips, row=\"day\", row_order=ordered_days,\n",
    "                  size=1.7, aspect=4,)\n",
    "g.map(sns.distplot, \"total_bill\", hist=True, rug=True);"
   ]
  },
  {
   "cell_type": "code",
   "execution_count": null,
   "metadata": {
    "collapsed": false
   },
   "outputs": [],
   "source": [
    "# 寻找适当的*_order参数来指定任何平面维度的数据顺序。\n",
    "ordered_days = tips.sex.value_counts().index\n",
    "g = sns.FacetGrid(tips, row=\"sex\", row_order=ordered_days,\n",
    "                  size=1.7, aspect=4,)\n",
    "\n",
    "# vertical 用来指定图像的方向\n",
    "# color 用来设置颜色，如k，y，g等\n",
    "g.map(sns.distplot, \"total_bill\", hist=True, rug=True,vertical=True,color=\"g\");"
   ]
  },
  {
   "cell_type": "markdown",
   "metadata": {},
   "source": [
    "### 柱状图 countplot"
   ]
  },
  {
   "cell_type": "code",
   "execution_count": null,
   "metadata": {
    "collapsed": false
   },
   "outputs": [],
   "source": [
    "# 按照性别绘制出吸烟和不吸烟的人数\n",
    "# 设置x，竖着排列\n",
    "sns.countplot(x=\"sex\", hue=\"smoker\", data=tips)"
   ]
  },
  {
   "cell_type": "code",
   "execution_count": null,
   "metadata": {
    "collapsed": false,
    "scrolled": false
   },
   "outputs": [],
   "source": [
    "# 设置y，横着排列\n",
    "sns.countplot(y='sex',data=tips,hue='smoker')"
   ]
  },
  {
   "cell_type": "markdown",
   "metadata": {},
   "source": [
    "### 折线图 pointplot"
   ]
  },
  {
   "cell_type": "code",
   "execution_count": null,
   "metadata": {
    "collapsed": false
   },
   "outputs": [],
   "source": [
    "# col_wrap：一行摆几张图\n",
    "# col：每个size绘制一张图，类似于col\n",
    "# 最终绘制出total_bill和tip在不同size下的散点关系\n",
    "g = sns.FacetGrid(tips, col=\"size\", col_wrap=3, size=2, ylim=(0, 10))\n",
    "g.map(sns.pointplot, \"total_bill\", \"tip\", color=\".3\", ci=None);"
   ]
  },
  {
   "cell_type": "markdown",
   "metadata": {},
   "source": [
    "### 自定义绘图类型"
   ]
  },
  {
   "cell_type": "code",
   "execution_count": null,
   "metadata": {
    "collapsed": false
   },
   "outputs": [],
   "source": [
    "# 比如绘制不同time下total_bill和tip的散点关系\n",
    "# 直接绘图的问题在于散点堆积在一起，不易看出类似于频率一样的效果，如何改善呢，可以使用sns.light_palette()函数绘制\n",
    "g=sns.FacetGrid(tips,col=\"time\",margin_titles=True)\n",
    "g.map(plt.scatter,\"total_bill\",\"tip\",alpha=0.7)\n",
    "\n",
    "# 自定义hexbin函数\n",
    "def hexbin(x, y, color, **kwargs):\n",
    "    cmap = sns.light_palette(color, as_cmap=True)\n",
    "    plt.hexbin(x, y, gridsize=15, cmap=cmap, **kwargs)\n",
    "\n",
    "with sns.axes_style(\"dark\"):\n",
    "    g = sns.FacetGrid(tips, hue=\"time\", col=\"time\", size=4)\n",
    "\n",
    "g.map(hexbin, \"total_bill\", \"tip\", extent=[0, 50, 0, 10]);"
   ]
  },
  {
   "cell_type": "markdown",
   "metadata": {},
   "source": [
    "## 调整绘图细节\n",
    "\n",
    "使用FacetGrid.map()（可以多次调用）绘制图形之后，可能需要调整绘图的某些方面。 FacetGrid对象上还有一些方法可以在更高层次的抽象上操作图形。最通用的是FacetGrid.set()，还有其他更专门的方法，如FacetGrid.set_axis_labels()，它遵循内部方面没有轴标签的效果。"
   ]
  },
  {
   "cell_type": "code",
   "execution_count": null,
   "metadata": {
    "collapsed": false
   },
   "outputs": [],
   "source": [
    "sns.set_style('white')\n",
    "g = sns.FacetGrid(tips, row=\"sex\", col=\"smoker\", margin_titles=True, size=2.5)\n",
    "g.map(plt.scatter, \"total_bill\", \"tip\", color=\"#334488\", edgecolor=\"white\", lw=.5);\n",
    "\n",
    "# 设置坐标轴X和Y的名称\n",
    "g.set_axis_labels(\"Total bill (US Dollars)\", \"Tip\");\n",
    "\n",
    "#  设置X和Y坐标轴的范围\n",
    "g.set(xticks=[10, 30, 50], yticks=[2, 6, 10]);\n",
    "g.fig.subplots_adjust(wspace=.05, hspace=.01);"
   ]
  },
  {
   "cell_type": "markdown",
   "metadata": {},
   "source": [
    "## 调色板\n",
    "\n",
    "可以提供任何Seaborn调色板（即可以传递给color_palette()的参数），还可以使用将色调变量中值的名称映射到有效的matplotlib颜色的字典："
   ]
  },
  {
   "cell_type": "code",
   "execution_count": null,
   "metadata": {
    "collapsed": false
   },
   "outputs": [],
   "source": [
    "# pal是字典类型\n",
    "pal = dict(Lunch=\"seagreen\", Dinner=\"gray\")\n",
    "g = sns.FacetGrid(tips, hue=\"time\", palette=pal, size=5)\n",
    "g.map(plt.scatter, \"total_bill\", \"tip\", s=50, alpha=.7, linewidth=.5, edgecolor=\"white\")\n",
    "# 添加图例\n",
    "g.add_legend();"
   ]
  },
  {
   "cell_type": "code",
   "execution_count": null,
   "metadata": {
    "collapsed": false
   },
   "outputs": [],
   "source": [
    "# 按照性别分成两个图，按照是否抽样在每个图中绘制不同的颜色，再利用hui_kws使不同颜色具有不同的形状\n",
    "g = sns.FacetGrid(tips, col=\"sex\",hue=\"smoker\", palette=\"Set1\",size=5 ,hue_kws=dict(marker=[\"^\", \"v\"]))\n",
    "g.map(plt.scatter, \"total_bill\", \"tip\", s=100, linewidth=.5, edgecolor=\"white\")\n",
    "g.add_legend();"
   ]
  },
  {
   "cell_type": "markdown",
   "metadata": {},
   "source": [
    "# 利用PairGrid作图\n",
    "\n",
    "* 散点图矩阵：使用相同的绘图类型快速绘制小子图的网格，以在每个图形中显示数据数据集中的每个成对关系。\n",
    "* 重点区分FacetGrid()和PairGrid()之间的区别\n",
    "  * FacetGrid()绘图重点在于展示某个变量与其他变量不同级别**相同的关系**\n",
    "  * PairGrid()每个图都可以显示**不同的关系**\n",
    "  * **用法**：类似于FacetGrid()，首先初始化网格，然后将绘图参数传递给map函数"
   ]
  },
  {
   "cell_type": "code",
   "execution_count": null,
   "metadata": {
    "collapsed": true
   },
   "outputs": [],
   "source": [
    "# 下载iris数据集\n",
    "iris=sns.load_dataset(\"iris\")"
   ]
  },
  {
   "cell_type": "markdown",
   "metadata": {},
   "source": [
    "## 常规绘图"
   ]
  },
  {
   "cell_type": "markdown",
   "metadata": {},
   "source": [
    "### 对角线scatter()"
   ]
  },
  {
   "cell_type": "code",
   "execution_count": null,
   "metadata": {
    "collapsed": false
   },
   "outputs": [],
   "source": [
    "# 初始化网格\n",
    "g=sns.PairGrid(iris)\n",
    "# 将绘图函数传递给map函数\n",
    "g.map(plt.scatter)"
   ]
  },
  {
   "cell_type": "markdown",
   "metadata": {},
   "source": [
    "### 对角线hist()\n",
    "展示每列中变量的单变量分布"
   ]
  },
  {
   "cell_type": "code",
   "execution_count": null,
   "metadata": {
    "collapsed": false
   },
   "outputs": [],
   "source": [
    "g=sns.PairGrid(iris)\n",
    "g.map_diag(plt.hist)\n",
    "g.map_offdiag(plt.scatter)"
   ]
  },
  {
   "cell_type": "markdown",
   "metadata": {},
   "source": [
    "### 对角线堆积图hist()\n",
    "通过单独的分类变量来绘制观察值"
   ]
  },
  {
   "cell_type": "code",
   "execution_count": null,
   "metadata": {
    "collapsed": false
   },
   "outputs": [],
   "source": [
    "# 按照列名species进行区分类别\n",
    "g=sns.PairGrid(iris,hue=\"species\")\n",
    "g.map_diag(plt.hist)\n",
    "g.map_offdiag(plt.scatter)\n",
    "g.add_legend()"
   ]
  },
  {
   "cell_type": "markdown",
   "metadata": {},
   "source": [
    "## 特殊绘图\n",
    "\n",
    "默认情况下，使用数据集中的每个数字列，但如果需要，您可以专注于特定的关系。"
   ]
  },
  {
   "cell_type": "markdown",
   "metadata": {},
   "source": [
    "### 子集绘图"
   ]
  },
  {
   "cell_type": "code",
   "execution_count": null,
   "metadata": {
    "collapsed": false
   },
   "outputs": [],
   "source": [
    "g=sns.PairGrid(iris,vars=['sepal_length','sepal_width'],hue='species')\n",
    "g.map(plt.scatter)\n",
    "g.add_legend()"
   ]
  },
  {
   "cell_type": "markdown",
   "metadata": {},
   "source": [
    "### 上下三角使用不同类型图形\n",
    "\n",
    "在上下三角形中使用不同的功能来强调关系的不同方面。"
   ]
  },
  {
   "cell_type": "code",
   "execution_count": null,
   "metadata": {
    "collapsed": false
   },
   "outputs": [],
   "source": [
    "g=sns.PairGrid(iris,hue='species')\n",
    "g.map_upper(plt.scatter)\n",
    "\n",
    "# kdeplot：高斯概率密度图，对直方图的一种核密度估计方法\n",
    "# http://seaborn.pydata.org/generated/seaborn.kdeplot.html#seaborn.kdeplot\n",
    "# 下三角展示二维的高斯函数\n",
    "g.map_lower(sns.kdeplot,cmap=\"Blues_d\")\n",
    "\n",
    "# 对角线为一维高斯函数，展示数据的正态分布特性\n",
    "g.map_diag(sns.kdeplot,lw=3,legend=False,shade=True)\n",
    "\n",
    "g.add_legend()"
   ]
  },
  {
   "cell_type": "code",
   "execution_count": null,
   "metadata": {
    "collapsed": false
   },
   "outputs": [],
   "source": [
    "g=sns.PairGrid(tips)\n",
    "g.map_upper(plt.scatter)\n",
    "\n",
    "# kdeplot：高斯概率密度图，对直方图的一种核密度估计方法\n",
    "# 区别于直方图，参考#http://blog.renren.com/share/247613541/15455888167 \n",
    "# http://seaborn.pydata.org/generated/seaborn.kdeplot.html#seaborn.kdeplot\n",
    "# 下三角展示二维的高斯函数\n",
    "g.map_lower(sns.kdeplot,cmap=\"Blues_d\")\n",
    "\n",
    "# 对角线为一维高斯函数，展示数据的正态分布特性\n",
    "g.map_diag(sns.kdeplot,lw=3,legend=False)\n"
   ]
  },
  {
   "cell_type": "markdown",
   "metadata": {},
   "source": [
    "### 行列不同变量\n",
    "\n",
    "具有对角线上的身份关系的方形网格实际上只是一个特殊情况，您可以在行和列中绘制不同的变量。"
   ]
  },
  {
   "cell_type": "code",
   "execution_count": null,
   "metadata": {
    "collapsed": false
   },
   "outputs": [],
   "source": [
    "# y_vars可以是一个list，同时x_vars也可以是一个list\n",
    "g=sns.PairGrid(tips,y_vars=[\"tip\"],x_vars=[\"total_bill\",\"size\"],size=4)\n",
    "g.map(sns.regplot,color=\".3\")\n",
    "g.set(ylim=(-1,11),yticks=[0,5,10])"
   ]
  },
  {
   "cell_type": "markdown",
   "metadata": {},
   "source": [
    "### 特殊属性配置\n",
    "sns属性是可配置的。 例如，可以使用不同的调色板（例如，显示色调变量的顺序），并将关键字参数传递到绘图函数中。"
   ]
  },
  {
   "cell_type": "code",
   "execution_count": null,
   "metadata": {
    "collapsed": false
   },
   "outputs": [],
   "source": [
    "g=sns.PairGrid(iris,hue=\"species\",palette=\"GnBu_d\")\n",
    "g.map(plt.scatter,s=50,edgecolor=\"white\")\n",
    "g.add_legend()"
   ]
  },
  {
   "cell_type": "markdown",
   "metadata": {},
   "source": [
    "## 快速绘制\n",
    "PairGrid是灵活的，但是要快速查看一个数据集，可以使用pairplot()更容易。 \n",
    "\n",
    "* 默认情况下，该功能使用散点图和直方图，但是还可以添加其他几种（目前还可以绘制对角线上的对角线和KDEs的回归图）。\n",
    "* 还可以使用关键字参数(diag_kid)控制显示细节，并返回PairGrid实例进行进一步的调整。如图二"
   ]
  },
  {
   "cell_type": "code",
   "execution_count": null,
   "metadata": {
    "collapsed": false
   },
   "outputs": [],
   "source": [
    "sns.pairplot(iris,hue=\"species\",size=2.0)"
   ]
  },
  {
   "cell_type": "code",
   "execution_count": null,
   "metadata": {
    "collapsed": false
   },
   "outputs": [],
   "source": [
    "g = sns.pairplot(iris, hue=\"species\", palette=\"Set2\", diag_kind=\"kde\", size=2.5)"
   ]
  }
 ],
 "metadata": {
  "anaconda-cloud": {},
  "kernelspec": {
   "display_name": "Python 2",
   "language": "python",
   "name": "python2"
  },
  "language_info": {
   "codemirror_mode": {
    "name": "ipython",
    "version": 2
   },
   "file_extension": ".py",
   "mimetype": "text/x-python",
   "name": "python",
   "nbconvert_exporter": "python",
   "pygments_lexer": "ipython2",
   "version": "2.7.13"
  },
  "toc": {
   "nav_menu": {},
   "number_sections": true,
   "sideBar": true,
   "skip_h1_title": false,
   "title_cell": "Table of Contents",
   "title_sidebar": "Seaborn(sns)绘图概览",
   "toc_cell": false,
   "toc_position": {
    "height": "calc(100% - 180px)",
    "left": "10px",
    "top": "150px",
    "width": "273px"
   },
   "toc_section_display": true,
   "toc_window_display": true
  }
 },
 "nbformat": 4,
 "nbformat_minor": 2
}
