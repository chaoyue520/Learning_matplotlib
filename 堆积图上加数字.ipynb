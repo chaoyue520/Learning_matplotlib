{
 "cells": [
  {
   "cell_type": "markdown",
   "metadata": {},
   "source": [
    "# 利用Pandas直接绘制堆积图"
   ]
  },
  {
   "cell_type": "code",
   "execution_count": 70,
   "metadata": {
    "collapsed": false
   },
   "outputs": [],
   "source": [
    "import pandas as pd\n",
    "import numpy as np\n",
    "import matplotlib.pyplot as plt\n",
    "%matplotlib inline"
   ]
  },
  {
   "cell_type": "markdown",
   "metadata": {},
   "source": [
    "* 如何解决图形中不能出现中文字体的问题"
   ]
  },
  {
   "cell_type": "code",
   "execution_count": 110,
   "metadata": {
    "collapsed": true
   },
   "outputs": [],
   "source": [
    "# 解决绘图中文乱码问题\n",
    "# 但是在出现中文的地方记得加个 u\n",
    "plt.rcParams['font.sans-serif'] = ['SimHei'] #指定默认字体    \n",
    "plt.rcParams['axes.unicode_minus'] = False #解决保存图像是负号'-'显示为方块的问题  "
   ]
  },
  {
   "cell_type": "code",
   "execution_count": 46,
   "metadata": {
    "collapsed": false
   },
   "outputs": [
    {
     "data": {
      "text/html": [
       "<div>\n",
       "<table border=\"1\" class=\"dataframe\">\n",
       "  <thead>\n",
       "    <tr style=\"text-align: right;\">\n",
       "      <th></th>\n",
       "      <th>prcidnormalscoreexp3v2</th>\n",
       "      <th>city_idx</th>\n",
       "      <th>bidnormalscoreexp3v2</th>\n",
       "    </tr>\n",
       "  </thead>\n",
       "  <tbody>\n",
       "    <tr>\n",
       "      <th>1</th>\n",
       "      <td>20.0</td>\n",
       "      <td>3.0</td>\n",
       "      <td>20.0</td>\n",
       "    </tr>\n",
       "    <tr>\n",
       "      <th>10</th>\n",
       "      <td>18.0</td>\n",
       "      <td>1.0</td>\n",
       "      <td>18.0</td>\n",
       "    </tr>\n",
       "    <tr>\n",
       "      <th>29</th>\n",
       "      <td>18.0</td>\n",
       "      <td>1.5</td>\n",
       "      <td>18.0</td>\n",
       "    </tr>\n",
       "    <tr>\n",
       "      <th>34</th>\n",
       "      <td>18.0</td>\n",
       "      <td>1.5</td>\n",
       "      <td>18.0</td>\n",
       "    </tr>\n",
       "    <tr>\n",
       "      <th>39</th>\n",
       "      <td>18.0</td>\n",
       "      <td>1.5</td>\n",
       "      <td>18.0</td>\n",
       "    </tr>\n",
       "  </tbody>\n",
       "</table>\n",
       "</div>"
      ],
      "text/plain": [
       "    prcidnormalscoreexp3v2  city_idx  bidnormalscoreexp3v2\n",
       "1                     20.0       3.0                  20.0\n",
       "10                    18.0       1.0                  18.0\n",
       "29                    18.0       1.5                  18.0\n",
       "34                    18.0       1.5                  18.0\n",
       "39                    18.0       1.5                  18.0"
      ]
     },
     "execution_count": 46,
     "metadata": {},
     "output_type": "execute_result"
    }
   ],
   "source": [
    "dt.head()"
   ]
  },
  {
   "cell_type": "code",
   "execution_count": 95,
   "metadata": {
    "collapsed": false
   },
   "outputs": [
    {
     "data": {
      "text/html": [
       "<div>\n",
       "<table border=\"1\" class=\"dataframe\">\n",
       "  <thead>\n",
       "    <tr style=\"text-align: right;\">\n",
       "      <th></th>\n",
       "      <th>prcidnormalscoreexp3v2</th>\n",
       "      <th>bidnormalscoreexp3v2</th>\n",
       "    </tr>\n",
       "    <tr>\n",
       "      <th>city_idx</th>\n",
       "      <th></th>\n",
       "      <th></th>\n",
       "    </tr>\n",
       "  </thead>\n",
       "  <tbody>\n",
       "    <tr>\n",
       "      <th>1.0</th>\n",
       "      <td>1094</td>\n",
       "      <td>635</td>\n",
       "    </tr>\n",
       "    <tr>\n",
       "      <th>1.5</th>\n",
       "      <td>1966</td>\n",
       "      <td>1387</td>\n",
       "    </tr>\n",
       "    <tr>\n",
       "      <th>2.0</th>\n",
       "      <td>1856</td>\n",
       "      <td>1251</td>\n",
       "    </tr>\n",
       "    <tr>\n",
       "      <th>3.0</th>\n",
       "      <td>2075</td>\n",
       "      <td>1362</td>\n",
       "    </tr>\n",
       "    <tr>\n",
       "      <th>4.0</th>\n",
       "      <td>2306</td>\n",
       "      <td>1649</td>\n",
       "    </tr>\n",
       "    <tr>\n",
       "      <th>5.0</th>\n",
       "      <td>1709</td>\n",
       "      <td>1087</td>\n",
       "    </tr>\n",
       "  </tbody>\n",
       "</table>\n",
       "</div>"
      ],
      "text/plain": [
       "          prcidnormalscoreexp3v2  bidnormalscoreexp3v2\n",
       "city_idx                                              \n",
       "1.0                         1094                   635\n",
       "1.5                         1966                  1387\n",
       "2.0                         1856                  1251\n",
       "3.0                         2075                  1362\n",
       "4.0                         2306                  1649\n",
       "5.0                         1709                  1087"
      ]
     },
     "execution_count": 95,
     "metadata": {},
     "output_type": "execute_result"
    }
   ],
   "source": [
    "df1_group=df1.groupby('city_idx')\n",
    "df2=df1_group[['prcidnormalscoreexp3v2','bidnormalscoreexp3v2']].count()\n",
    "df2"
   ]
  },
  {
   "cell_type": "code",
   "execution_count": 298,
   "metadata": {
    "collapsed": false
   },
   "outputs": [
    {
     "data": {
      "text/html": [
       "<div>\n",
       "<table border=\"1\" class=\"dataframe\">\n",
       "  <thead>\n",
       "    <tr style=\"text-align: right;\">\n",
       "      <th></th>\n",
       "      <th>prcidnormalscoreexp3v2</th>\n",
       "      <th>bidnormalscoreexp3v2</th>\n",
       "    </tr>\n",
       "    <tr>\n",
       "      <th>city_idx</th>\n",
       "      <th></th>\n",
       "      <th></th>\n",
       "    </tr>\n",
       "  </thead>\n",
       "  <tbody>\n",
       "    <tr>\n",
       "      <th>1.0</th>\n",
       "      <td>0.632736</td>\n",
       "      <td>0.367264</td>\n",
       "    </tr>\n",
       "    <tr>\n",
       "      <th>1.5</th>\n",
       "      <td>0.586341</td>\n",
       "      <td>0.413659</td>\n",
       "    </tr>\n",
       "    <tr>\n",
       "      <th>2.0</th>\n",
       "      <td>0.597361</td>\n",
       "      <td>0.402639</td>\n",
       "    </tr>\n",
       "    <tr>\n",
       "      <th>3.0</th>\n",
       "      <td>0.603724</td>\n",
       "      <td>0.396276</td>\n",
       "    </tr>\n",
       "    <tr>\n",
       "      <th>4.0</th>\n",
       "      <td>0.583059</td>\n",
       "      <td>0.416941</td>\n",
       "    </tr>\n",
       "    <tr>\n",
       "      <th>5.0</th>\n",
       "      <td>0.611230</td>\n",
       "      <td>0.388770</td>\n",
       "    </tr>\n",
       "  </tbody>\n",
       "</table>\n",
       "</div>"
      ],
      "text/plain": [
       "          prcidnormalscoreexp3v2  bidnormalscoreexp3v2\n",
       "city_idx                                              \n",
       "1.0                     0.632736              0.367264\n",
       "1.5                     0.586341              0.413659\n",
       "2.0                     0.597361              0.402639\n",
       "3.0                     0.603724              0.396276\n",
       "4.0                     0.583059              0.416941\n",
       "5.0                     0.611230              0.388770"
      ]
     },
     "execution_count": 298,
     "metadata": {},
     "output_type": "execute_result"
    }
   ],
   "source": [
    "# 利用div函数快速计算占比，axis=0表示按行计算\n",
    "df2.div(df2.sum(1),axis=0)"
   ]
  },
  {
   "cell_type": "markdown",
   "metadata": {},
   "source": [
    "# 利用Pandas画堆积图"
   ]
  },
  {
   "cell_type": "code",
   "execution_count": 263,
   "metadata": {
    "collapsed": false
   },
   "outputs": [
    {
     "data": {
      "text/plain": [
       "<matplotlib.legend.Legend at 0x17d3d748>"
      ]
     },
     "execution_count": 263,
     "metadata": {},
     "output_type": "execute_result"
    },
    {
     "data": {
      "image/png": "[encoded data removed]",
      "text/plain": [
       "<matplotlib.figure.Figure at 0x17b81400>"
      ]
     },
     "metadata": {},
     "output_type": "display_data"
    }
   ],
   "source": [
    "# 利用pandas作图\n",
    "# stacked表示画堆积图\n",
    "\n",
    "df2.div(df2.sum(1),axis=0).plot(kind='bar', stacked=True ,figsize=(15, 8))\n",
    "# plt.legend(loc='best')\n",
    "# 中文前加u可以避免中文报错\n",
    "plt.title(u'画个堆积图')\n",
    "plt.xlabel(u'这个是X轴的名称')\n",
    "plt.ylabel(u'Y')\n",
    "plt.legend(['a','b'],loc=\"upper right\")\n"
   ]
  },
  {
   "cell_type": "code",
   "execution_count": 296,
   "metadata": {
    "collapsed": false
   },
   "outputs": [
    {
     "data": {
      "image/png": "[encoded data removed]",
      "text/plain": [
       "<matplotlib.figure.Figure at 0x17d3d358>"
      ]
     },
     "metadata": {},
     "output_type": "display_data"
    }
   ],
   "source": [
    "df2.div(df2.sum(1),axis=0).plot(kind='bar', stacked=True ,figsize=(15, 8))\n",
    "# plt.legend(loc='best')\n",
    "# 中文前加u可以避免中文报错\n",
    "plt.title(u'画个堆积图')\n",
    "plt.xlabel(u'这个是X轴的名称')\n",
    "plt.ylabel(u'Y')\n",
    "plt.legend(['a','b'],loc=\"upper right\")\n",
    "\n",
    "# 添加的数字\n",
    "c=df2.div(df2.sum(1),axis=0)['bidnormalscoreexp3v2'].values.tolist()\n",
    "d=df2.div(df2.sum(1),axis=0)['prcidnormalscoreexp3v2'].values.tolist()\n",
    "\n",
    "# 数字位置\n",
    "x=range(6)\n",
    "y=[0.38]*len(x)\n",
    "\n",
    "# 文字类型设置\n",
    "font = {'family': 'sans-serif',\n",
    "        'color':  'darkred',\n",
    "        'weight': 'normal',\n",
    "        'size': 15,\n",
    "        'color':'w',\n",
    "        'fontsize':15\n",
    "        }\n",
    "\n",
    "# 循环添加\n",
    "for a,b in zip(x,y):\n",
    "    plt.text(a,b, '{:.1%}'.format(c[x.index(a)]) ,ha='center', va= 'bottom',fontdict=font)\n",
    "\n",
    "for a,b in zip(x,y):\n",
    "    plt.text(a,b+0.3, '{:.1%}'.format(d[x.index(a)]) ,ha='center', va= 'bottom',fontdict=font)\n",
    "\n",
    "    \n",
    "#text(x, y, s, fontsize=12)\n"
   ]
  },
  {
   "cell_type": "markdown",
   "metadata": {},
   "source": [
    "> 说明：axis=0 表示按行除\n",
    "\n",
    "> dataframe 通过图形参数figsize控制图形大小"
   ]
  },
  {
   "cell_type": "markdown",
   "metadata": {},
   "source": [
    "# 补充一点"
   ]
  },
  {
   "cell_type": "code",
   "execution_count": 86,
   "metadata": {
    "collapsed": false
   },
   "outputs": [
    {
     "name": "stdout",
     "output_type": "stream",
     "text": [
      "prcidnormalscoreexp3v2     11006.0\n",
      "bidnormalscoreexp3v2        7371.0\n",
      "total                     312409.0\n",
      "dtype: float64\n",
      "city_idx\n",
      "1.0    31122.0\n",
      "1.5    60354.0\n",
      "2.0    55926.0\n",
      "3.0    61866.0\n",
      "4.0    71190.0\n",
      "5.0    50328.0\n",
      "dtype: float64\n"
     ]
    }
   ],
   "source": [
    "# dataframe 按列加\n",
    "print df2.sum(0)\n",
    "\n",
    "# dataframe 按行加\n",
    "print df2.sum(1)"
   ]
  },
  {
   "cell_type": "code",
   "execution_count": 90,
   "metadata": {
    "collapsed": false
   },
   "outputs": [
    {
     "data": {
      "text/html": [
       "<div>\n",
       "<table border=\"1\" class=\"dataframe\">\n",
       "  <thead>\n",
       "    <tr style=\"text-align: right;\">\n",
       "      <th></th>\n",
       "      <th>prcidnormalscoreexp3v2</th>\n",
       "      <th>bidnormalscoreexp3v2</th>\n",
       "      <th>total</th>\n",
       "    </tr>\n",
       "  </thead>\n",
       "  <tbody>\n",
       "    <tr>\n",
       "      <th>1.0</th>\n",
       "      <td>1094.0</td>\n",
       "      <td>635.0</td>\n",
       "      <td>29393.0</td>\n",
       "    </tr>\n",
       "    <tr>\n",
       "      <th>1.5</th>\n",
       "      <td>1966.0</td>\n",
       "      <td>1387.0</td>\n",
       "      <td>57001.0</td>\n",
       "    </tr>\n",
       "    <tr>\n",
       "      <th>2.0</th>\n",
       "      <td>1856.0</td>\n",
       "      <td>1251.0</td>\n",
       "      <td>52819.0</td>\n",
       "    </tr>\n",
       "    <tr>\n",
       "      <th>3.0</th>\n",
       "      <td>2075.0</td>\n",
       "      <td>1362.0</td>\n",
       "      <td>58429.0</td>\n",
       "    </tr>\n",
       "    <tr>\n",
       "      <th>4.0</th>\n",
       "      <td>2306.0</td>\n",
       "      <td>1649.0</td>\n",
       "      <td>67235.0</td>\n",
       "    </tr>\n",
       "    <tr>\n",
       "      <th>5.0</th>\n",
       "      <td>1709.0</td>\n",
       "      <td>1087.0</td>\n",
       "      <td>47532.0</td>\n",
       "    </tr>\n",
       "    <tr>\n",
       "      <th>0.0</th>\n",
       "      <td>11006.0</td>\n",
       "      <td>7371.0</td>\n",
       "      <td>312409.0</td>\n",
       "    </tr>\n",
       "  </tbody>\n",
       "</table>\n",
       "</div>"
      ],
      "text/plain": [
       "     prcidnormalscoreexp3v2  bidnormalscoreexp3v2     total\n",
       "1.0                  1094.0                 635.0   29393.0\n",
       "1.5                  1966.0                1387.0   57001.0\n",
       "2.0                  1856.0                1251.0   52819.0\n",
       "3.0                  2075.0                1362.0   58429.0\n",
       "4.0                  2306.0                1649.0   67235.0\n",
       "5.0                  1709.0                1087.0   47532.0\n",
       "0.0                 11006.0                7371.0  312409.0"
      ]
     },
     "execution_count": 90,
     "metadata": {},
     "output_type": "execute_result"
    }
   ],
   "source": [
    "# 行列添加Total值\n",
    "pd.concat([df2,pd.DataFrame(df2.sum(0)).T],ignore_index=False)"
   ]
  }
 ],
 "metadata": {
  "kernelspec": {
   "display_name": "Python 2",
   "language": "python",
   "name": "python2"
  },
  "language_info": {
   "codemirror_mode": {
    "name": "ipython",
    "version": 2
   },
   "file_extension": ".py",
   "mimetype": "text/x-python",
   "name": "python",
   "nbconvert_exporter": "python",
   "pygments_lexer": "ipython2",
   "version": "2.7.13"
  },
  "toc": {
   "nav_menu": {},
   "number_sections": true,
   "sideBar": true,
   "skip_h1_title": false,
   "title_cell": "Table of Contents",
   "title_sidebar": "Contents",
   "toc_cell": false,
   "toc_position": {},
   "toc_section_display": true,
   "toc_window_display": true
  }
 },
 "nbformat": 4,
 "nbformat_minor": 2
}
