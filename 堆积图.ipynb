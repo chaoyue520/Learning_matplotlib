{
 "cells": [
  {
   "cell_type": "code",
   "execution_count": 66,
   "metadata": {
    "collapsed": false
   },
   "outputs": [],
   "source": [
    "import numpy as np\n",
    "import pandas as pd\n",
    "import matplotlib.pyplot as plt\n",
    "import seaborn as sns\n",
    "%matplotlib inline\n",
    "sns.set_style(\"dark\")"
   ]
  },
  {
   "cell_type": "code",
   "execution_count": 52,
   "metadata": {
    "collapsed": false
   },
   "outputs": [
    {
     "data": {
      "text/html": [
       "<div>\n",
       "<table border=\"1\" class=\"dataframe\">\n",
       "  <thead>\n",
       "    <tr style=\"text-align: right;\">\n",
       "      <th></th>\n",
       "      <th>age</th>\n",
       "      <th>age_batch</th>\n",
       "      <th>odu_bid</th>\n",
       "    </tr>\n",
       "  </thead>\n",
       "  <tbody>\n",
       "    <tr>\n",
       "      <th>0</th>\n",
       "      <td>31</td>\n",
       "      <td>age_3</td>\n",
       "      <td>1</td>\n",
       "    </tr>\n",
       "    <tr>\n",
       "      <th>1</th>\n",
       "      <td>26</td>\n",
       "      <td>age_2</td>\n",
       "      <td>1</td>\n",
       "    </tr>\n",
       "    <tr>\n",
       "      <th>2</th>\n",
       "      <td>29</td>\n",
       "      <td>age_2</td>\n",
       "      <td>1</td>\n",
       "    </tr>\n",
       "    <tr>\n",
       "      <th>3</th>\n",
       "      <td>26</td>\n",
       "      <td>age_2</td>\n",
       "      <td>1</td>\n",
       "    </tr>\n",
       "    <tr>\n",
       "      <th>4</th>\n",
       "      <td>21</td>\n",
       "      <td>age_0</td>\n",
       "      <td>1</td>\n",
       "    </tr>\n",
       "  </tbody>\n",
       "</table>\n",
       "</div>"
      ],
      "text/plain": [
       "   age age_batch  odu_bid\n",
       "0   31     age_3        1\n",
       "1   26     age_2        1\n",
       "2   29     age_2        1\n",
       "3   26     age_2        1\n",
       "4   21     age_0        1"
      ]
     },
     "execution_count": 52,
     "metadata": {},
     "output_type": "execute_result"
    }
   ],
   "source": [
    "data_set=data_set[['age','age_batch','odu_bid']]\n",
    "data_set.head()"
   ]
  },
  {
   "cell_type": "code",
   "execution_count": 53,
   "metadata": {
    "collapsed": false
   },
   "outputs": [
    {
     "data": {
      "text/html": [
       "<div>\n",
       "<table border=\"1\" class=\"dataframe\">\n",
       "  <thead>\n",
       "    <tr style=\"text-align: right;\">\n",
       "      <th>odu_bid</th>\n",
       "      <th>0</th>\n",
       "      <th>1</th>\n",
       "      <th>sum</th>\n",
       "      <th>yes_prop</th>\n",
       "      <th>no_prop</th>\n",
       "    </tr>\n",
       "    <tr>\n",
       "      <th>age</th>\n",
       "      <th></th>\n",
       "      <th></th>\n",
       "      <th></th>\n",
       "      <th></th>\n",
       "      <th></th>\n",
       "    </tr>\n",
       "  </thead>\n",
       "  <tbody>\n",
       "    <tr>\n",
       "      <th>18</th>\n",
       "      <td>876.0</td>\n",
       "      <td>630.0</td>\n",
       "      <td>1506.0</td>\n",
       "      <td>0.418327</td>\n",
       "      <td>0.581673</td>\n",
       "    </tr>\n",
       "    <tr>\n",
       "      <th>19</th>\n",
       "      <td>1011.0</td>\n",
       "      <td>540.0</td>\n",
       "      <td>1551.0</td>\n",
       "      <td>0.348162</td>\n",
       "      <td>0.651838</td>\n",
       "    </tr>\n",
       "    <tr>\n",
       "      <th>20</th>\n",
       "      <td>1239.0</td>\n",
       "      <td>610.0</td>\n",
       "      <td>1849.0</td>\n",
       "      <td>0.329908</td>\n",
       "      <td>0.670092</td>\n",
       "    </tr>\n",
       "    <tr>\n",
       "      <th>21</th>\n",
       "      <td>1332.0</td>\n",
       "      <td>660.0</td>\n",
       "      <td>1992.0</td>\n",
       "      <td>0.331325</td>\n",
       "      <td>0.668675</td>\n",
       "    </tr>\n",
       "    <tr>\n",
       "      <th>22</th>\n",
       "      <td>1230.0</td>\n",
       "      <td>410.0</td>\n",
       "      <td>1640.0</td>\n",
       "      <td>0.250000</td>\n",
       "      <td>0.750000</td>\n",
       "    </tr>\n",
       "  </tbody>\n",
       "</table>\n",
       "</div>"
      ],
      "text/plain": [
       "odu_bid       0      1     sum  yes_prop   no_prop\n",
       "age                                               \n",
       "18        876.0  630.0  1506.0  0.418327  0.581673\n",
       "19       1011.0  540.0  1551.0  0.348162  0.651838\n",
       "20       1239.0  610.0  1849.0  0.329908  0.670092\n",
       "21       1332.0  660.0  1992.0  0.331325  0.668675\n",
       "22       1230.0  410.0  1640.0  0.250000  0.750000"
      ]
     },
     "execution_count": 53,
     "metadata": {},
     "output_type": "execute_result"
    }
   ],
   "source": [
    "df1=data_set.groupby(['age','odu_bid']).size().unstack()\n",
    "df1['sum']=df1[0]+df1[1]\n",
    "df1['yes_prop']=df1[1]/df1['sum']\n",
    "df1['no_prop']=df1[0]/df1['sum']\n",
    "df1.head()"
   ]
  },
  {
   "cell_type": "code",
   "execution_count": 54,
   "metadata": {
    "collapsed": false
   },
   "outputs": [
    {
     "data": {
      "text/html": [
       "<div>\n",
       "<table border=\"1\" class=\"dataframe\">\n",
       "  <thead>\n",
       "    <tr style=\"text-align: right;\">\n",
       "      <th>odu_bid</th>\n",
       "      <th>0</th>\n",
       "      <th>1</th>\n",
       "      <th>sum</th>\n",
       "      <th>yes_prop</th>\n",
       "      <th>no_prop</th>\n",
       "    </tr>\n",
       "    <tr>\n",
       "      <th>age_batch</th>\n",
       "      <th></th>\n",
       "      <th></th>\n",
       "      <th></th>\n",
       "      <th></th>\n",
       "      <th></th>\n",
       "    </tr>\n",
       "  </thead>\n",
       "  <tbody>\n",
       "    <tr>\n",
       "      <th>age_0</th>\n",
       "      <td>4458</td>\n",
       "      <td>2440</td>\n",
       "      <td>6898</td>\n",
       "      <td>0.353726</td>\n",
       "      <td>0.646274</td>\n",
       "    </tr>\n",
       "    <tr>\n",
       "      <th>age_1</th>\n",
       "      <td>3303</td>\n",
       "      <td>1230</td>\n",
       "      <td>4533</td>\n",
       "      <td>0.271343</td>\n",
       "      <td>0.728657</td>\n",
       "    </tr>\n",
       "    <tr>\n",
       "      <th>age_2</th>\n",
       "      <td>4197</td>\n",
       "      <td>1970</td>\n",
       "      <td>6167</td>\n",
       "      <td>0.319442</td>\n",
       "      <td>0.680558</td>\n",
       "    </tr>\n",
       "    <tr>\n",
       "      <th>age_3</th>\n",
       "      <td>2280</td>\n",
       "      <td>890</td>\n",
       "      <td>3170</td>\n",
       "      <td>0.280757</td>\n",
       "      <td>0.719243</td>\n",
       "    </tr>\n",
       "    <tr>\n",
       "      <th>age_4</th>\n",
       "      <td>378</td>\n",
       "      <td>180</td>\n",
       "      <td>558</td>\n",
       "      <td>0.322581</td>\n",
       "      <td>0.677419</td>\n",
       "    </tr>\n",
       "  </tbody>\n",
       "</table>\n",
       "</div>"
      ],
      "text/plain": [
       "odu_bid       0     1   sum  yes_prop   no_prop\n",
       "age_batch                                      \n",
       "age_0      4458  2440  6898  0.353726  0.646274\n",
       "age_1      3303  1230  4533  0.271343  0.728657\n",
       "age_2      4197  1970  6167  0.319442  0.680558\n",
       "age_3      2280   890  3170  0.280757  0.719243\n",
       "age_4       378   180   558  0.322581  0.677419"
      ]
     },
     "execution_count": 54,
     "metadata": {},
     "output_type": "execute_result"
    }
   ],
   "source": [
    "df2=data_set.groupby(['age_batch','odu_bid']).size().unstack()\n",
    "df2['sum']=df2[0]+df2[1]\n",
    "df2['yes_prop']=df2[1]/df2['sum']\n",
    "df2['no_prop']=df2[0]/df2['sum']\n",
    "df2.head()\n",
    "# df.index.values"
   ]
  },
  {
   "cell_type": "code",
   "execution_count": 67,
   "metadata": {
    "collapsed": false
   },
   "outputs": [
    {
     "data": {
      "text/plain": [
       "<matplotlib.axes._subplots.AxesSubplot at 0x14585630>"
      ]
     },
     "execution_count": 67,
     "metadata": {},
     "output_type": "execute_result"
    },
    {
     "data": {
      "image/png": "[encoded data removed]",
      "text/plain": [
       "<matplotlib.figure.Figure at 0x130a0f60>"
      ]
     },
     "metadata": {},
     "output_type": "display_data"
    }
   ],
   "source": [
    "# dataframe画图注意事项\n",
    "fig, axes = plt.subplots(nrows=2, ncols=1)\n",
    "\n",
    "df1=df1[['yes_prop','no_prop']]\n",
    "df1.plot(kind='bar',stacked=True,grid=True,ax=axes[0],figsize=(10,10))\n",
    "\n",
    "df2=df2[['yes_prop','no_prop']]\n",
    "df2.plot(kind='bar',stacked=True,grid=True,ax=axes[1],figsize=(10,10))\n"
   ]
  },
  {
   "cell_type": "code",
   "execution_count": 68,
   "metadata": {
    "collapsed": false
   },
   "outputs": [
    {
     "data": {
      "text/plain": [
       "<matplotlib.axes._subplots.AxesSubplot at 0x14b17710>"
      ]
     },
     "execution_count": 68,
     "metadata": {},
     "output_type": "execute_result"
    },
    {
     "data": {
      "image/png": "[encoded data removed]",
      "text/plain": [
       "<matplotlib.figure.Figure at 0x12e09c88>"
      ]
     },
     "metadata": {},
     "output_type": "display_data"
    }
   ],
   "source": [
    "# dataframe画图注意事项\n",
    "fig, axes = plt.subplots(nrows=2, ncols=1)\n",
    "\n",
    "df3=data_set.groupby(['age','odu_bid']).size().unstack()\n",
    "df3.plot(kind='bar',stacked=True,grid=True,ax=axes[0],figsize=(10,10))\n",
    "\n",
    "df4=data_set.groupby(['age_batch','odu_bid']).size().unstack()\n",
    "df4.plot(kind='bar',stacked=True,grid=True,ax=axes[1],figsize=(10,10))\n"
   ]
  }
 ],
 "metadata": {
  "kernelspec": {
   "display_name": "Python 2",
   "language": "python",
   "name": "python2"
  },
  "language_info": {
   "codemirror_mode": {
    "name": "ipython",
    "version": 2
   },
   "file_extension": ".py",
   "mimetype": "text/x-python",
   "name": "python",
   "nbconvert_exporter": "python",
   "pygments_lexer": "ipython2",
   "version": "2.7.13"
  },
  "toc": {
   "nav_menu": {},
   "number_sections": true,
   "sideBar": true,
   "skip_h1_title": false,
   "title_cell": "Table of Contents",
   "title_sidebar": "Contents",
   "toc_cell": false,
   "toc_position": {},
   "toc_section_display": true,
   "toc_window_display": false
  }
 },
 "nbformat": 4,
 "nbformat_minor": 2
}
